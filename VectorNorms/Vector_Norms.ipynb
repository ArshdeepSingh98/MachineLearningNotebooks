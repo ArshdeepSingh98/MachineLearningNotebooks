{
  "nbformat": 4,
  "nbformat_minor": 0,
  "metadata": {
    "colab": {
      "provenance": []
    },
    "kernelspec": {
      "name": "python3",
      "display_name": "Python 3"
    },
    "language_info": {
      "name": "python"
    }
  },
  "cells": [
    {
      "cell_type": "markdown",
      "source": [
        "## L1 Vector Norm\n",
        "- Manhatten Distance from origin"
      ],
      "metadata": {
        "id": "0G12pQAuyIp5"
      }
    },
    {
      "cell_type": "code",
      "execution_count": 1,
      "metadata": {
        "colab": {
          "base_uri": "https://localhost:8080/"
        },
        "id": "h8zrq6GByD9N",
        "outputId": "13862e68-43f1-4e0e-b043-7c6c5d7755ac"
      },
      "outputs": [
        {
          "output_type": "stream",
          "name": "stdout",
          "text": [
            "[1 2 3]\n",
            "6.0\n"
          ]
        }
      ],
      "source": [
        "# l1 norm of a vector\n",
        "from numpy import array\n",
        "from numpy.linalg import norm\n",
        "a = array([1, 2, 3])\n",
        "print(a)\n",
        "l1 = norm(a, 1)\n",
        "print(l1)"
      ]
    },
    {
      "cell_type": "markdown",
      "source": [
        "## L2 Vector Norm\n",
        "- Euclidean Distance"
      ],
      "metadata": {
        "id": "woZQf_nhybMA"
      }
    },
    {
      "cell_type": "code",
      "source": [
        "from numpy import array\n",
        "from numpy.linalg import norm\n",
        "a = array([1, 2, 3])\n",
        "print(a)\n",
        "l2 = norm(a)\n",
        "print(l2)"
      ],
      "metadata": {
        "colab": {
          "base_uri": "https://localhost:8080/"
        },
        "id": "d-tsoR45yL-Z",
        "outputId": "85ee3ef1-4556-426c-a438-9d3a17aa0612"
      },
      "execution_count": 2,
      "outputs": [
        {
          "output_type": "stream",
          "name": "stdout",
          "text": [
            "[1 2 3]\n",
            "3.7416573867739413\n"
          ]
        }
      ]
    },
    {
      "cell_type": "markdown",
      "source": [
        "- Methods of regularization\n",
        "## Max Norm\n",
        "- Max value of the vector"
      ],
      "metadata": {
        "id": "oAEaoIejy1yz"
      }
    },
    {
      "cell_type": "code",
      "source": [
        "from numpy import inf\n",
        "from numpy import array\n",
        "from numpy.linalg import norm\n",
        "a = array([1, 2, 3])\n",
        "print(a)\n",
        "maxnorm = norm(a, inf)\n",
        "print(maxnorm)"
      ],
      "metadata": {
        "colab": {
          "base_uri": "https://localhost:8080/"
        },
        "id": "LwJsuX9Xyv_f",
        "outputId": "69d085c4-c189-437e-cfe8-74916d6901d8"
      },
      "execution_count": 3,
      "outputs": [
        {
          "output_type": "stream",
          "name": "stdout",
          "text": [
            "[1 2 3]\n",
            "3.0\n"
          ]
        }
      ]
    },
    {
      "cell_type": "code",
      "source": [],
      "metadata": {
        "id": "QB95LLdczR1r"
      },
      "execution_count": null,
      "outputs": []
    }
  ]
}