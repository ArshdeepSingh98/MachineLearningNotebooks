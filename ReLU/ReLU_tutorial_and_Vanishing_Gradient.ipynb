{
  "nbformat": 4,
  "nbformat_minor": 0,
  "metadata": {
    "colab": {
      "provenance": []
    },
    "kernelspec": {
      "name": "python3",
      "display_name": "Python 3"
    },
    "language_info": {
      "name": "python"
    }
  },
  "cells": [
    {
      "cell_type": "markdown",
      "source": [
        "# ReLU Tutorial\n",
        "## Rectified Linear Activation Unit\n",
        "- [Link](https://machinelearningmastery.com/rectified-linear-activation-function-for-deep-learning-neural-networks/)"
      ],
      "metadata": {
        "id": "j1zKqJ9qVVOG"
      }
    },
    {
      "cell_type": "code",
      "execution_count": 1,
      "metadata": {
        "id": "Xew_09gLuWCc"
      },
      "outputs": [],
      "source": [
        "# rectified linear function\n",
        "def rectified(x):\n",
        "    return max(0.0, x)"
      ]
    },
    {
      "cell_type": "code",
      "source": [
        "# demonstrate the rectified linear function\n",
        "\n",
        "# rectified linear function\n",
        "def rectified(x):\n",
        "\treturn max(0.0, x)\n",
        "\n",
        "# demonstrate with a positive input\n",
        "x = 1.0\n",
        "print('rectified(%.1f) is %.1f' % (x, rectified(x)))\n",
        "x = 1000.0\n",
        "print('rectified(%.1f) is %.1f' % (x, rectified(x)))\n",
        "# demonstrate with a zero input\n",
        "x = 0.0\n",
        "print('rectified(%.1f) is %.1f' % (x, rectified(x)))\n",
        "# demonstrate with a negative input\n",
        "x = -1.0\n",
        "print('rectified(%.1f) is %.1f' % (x, rectified(x)))\n",
        "x = -1000.0\n",
        "print('rectified(%.1f) is %.1f' % (x, rectified(x)))"
      ],
      "metadata": {
        "colab": {
          "base_uri": "https://localhost:8080/"
        },
        "id": "ppkHHf2NudkR",
        "outputId": "7cf4b9fd-1762-473f-de60-99e94939e30d"
      },
      "execution_count": 1,
      "outputs": [
        {
          "output_type": "stream",
          "name": "stdout",
          "text": [
            "rectified(1.0) is 1.0\n",
            "rectified(1000.0) is 1000.0\n",
            "rectified(0.0) is 0.0\n",
            "rectified(-1.0) is 0.0\n",
            "rectified(-1000.0) is 0.0\n"
          ]
        }
      ]
    },
    {
      "cell_type": "code",
      "source": [
        "# plot inputs and outputs\n",
        "from matplotlib import pyplot\n",
        "\n",
        "# rectified linear function\n",
        "def rectified(x):\n",
        "\treturn max(0.0, x)\n",
        "\n",
        "# define a series of inputs\n",
        "series_in = [x for x in range(-10, 11)]\n",
        "# calculate outputs for our inputs\n",
        "series_out = [rectified(x) for x in series_in]\n",
        "# line plot of raw inputs to rectified outputs\n",
        "pyplot.plot(series_in, series_out)\n",
        "pyplot.show()"
      ],
      "metadata": {
        "colab": {
          "base_uri": "https://localhost:8080/",
          "height": 430
        },
        "id": "5TgF9ryAurfK",
        "outputId": "bc6adab2-8e5a-4a1e-e1dd-a45668eb427c"
      },
      "execution_count": 2,
      "outputs": [
        {
          "output_type": "display_data",
          "data": {
            "text/plain": [
              "<Figure size 640x480 with 1 Axes>"
            ],
            "image/png": "[encoded data removed]"
          },
          "metadata": {}
        }
      ]
    },
    {
      "cell_type": "code",
      "source": [
        "# Helps with vanishing gradient as with linear relation, the gradient remains close to the node activations\n",
        "# If in doubt, start with ReLU in your neural network, then perhaps try other piecewise linear activation functions to see how their performance compares.\n",
        "# It is recommended as the default for both Multilayer Perceptron (MLP) and Convolutional Neural Networks (CNNs).\n",
        "# Not so with RNNs such as LSTMs\n",
        "# When using ReLU in your network, consider setting the bias to a small value, such as 0.1., usually its 1.0\n",
        "# When using ReLU in your network and initializing weights to small random values centered on zero, then by default half of the units in the network will output a zero value.\n",
        "# a small modification of Xavier initialization to make it suitable for use with ReLU, now commonly referred to as “He initialization”\n",
        "# It is good practice to scale input data prior to using a neural network. This may involve standardizing variables to have a zero mean and unit variance or normalizing each value to the scale 0-to-1.\n",
        "# ReLU is unbounded in the positive domain. This means that in some cases, the output can continue to grow in size. As such, it may be a good idea to use a form of weight regularization, such as an L1 or L2 vector norm.\n",
        "# “dying ReLU“. output to 0, The Leaky ReLU (LReLU or LReL) modifies the function to allow small negative values when the input is less than zero.\n",
        "#  Exponential Linear Unit, or ELU, is a generalization of the ReLU that uses a parameterized exponential function to transition from the positive to small negative values.\n",
        "# Maxout is an alternative piecewise linear function that returns the maximum of the inputs, designed to be used in conjunction with the dropout regularization technique."
      ],
      "metadata": {
        "id": "fA6L03GINytk"
      },
      "execution_count": null,
      "outputs": []
    },
    {
      "cell_type": "markdown",
      "source": [
        "## How to fix Vanishing Gradient using ReLU\n",
        "- [Link](https://machinelearningmastery.com/how-to-fix-vanishing-gradients-using-the-rectified-linear-activation-function/)"
      ],
      "metadata": {
        "id": "hzQQq8q2Vdlp"
      }
    },
    {
      "cell_type": "code",
      "source": [],
      "metadata": {
        "id": "jYfa6UgrVhBd"
      },
      "execution_count": null,
      "outputs": []
    }
  ]
}